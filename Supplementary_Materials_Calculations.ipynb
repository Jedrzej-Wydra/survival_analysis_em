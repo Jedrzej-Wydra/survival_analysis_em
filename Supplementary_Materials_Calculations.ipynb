{
 "cells": [
  {
   "cell_type": "markdown",
   "id": "9e8b5577",
   "metadata": {},
   "source": [
    "# Dependence of Estimated Coefficients on Experimental Design"
   ]
  },
  {
   "cell_type": "markdown",
   "id": "50722037",
   "metadata": {},
   "source": [
    "## Libraries"
   ]
  },
  {
   "cell_type": "code",
   "execution_count": 5,
   "id": "25f8a87c",
   "metadata": {},
   "outputs": [],
   "source": [
    "import pandas as pd\n",
    "import numpy as np\n",
    "import matplotlib.pyplot as plt\n",
    "from scipy.special import gamma"
   ]
  },
  {
   "cell_type": "code",
   "execution_count": 6,
   "id": "84b2367e",
   "metadata": {},
   "outputs": [],
   "source": [
    "# packages\n",
    "\n",
    "import pandas as pd\n",
    "import matplotlib.pyplot as plt\n",
    "import numpy as np\n",
    "import seaborn as sns\n",
    "import time\n",
    "from scipy.stats import weibull_min, beta, norm, kruskal, ttest_ind, mannwhitneyu\n",
    "from scipy.optimize import root, root_scalar\n",
    "from scipy.spatial.distance import pdist\n",
    "from tqdm.notebook import tqdm\n",
    "from lifelines import WeibullFitter\n",
    "import scipy.stats as stats\n",
    "import random\n",
    "from scipy.stats import levene\n",
    "import pickle\n",
    "import statsmodels.api as sm\n",
    "\n",
    "\n",
    "# BIC\n",
    "\n",
    "def BIC(density, n_coefs, debug_eps = 1e-10):\n",
    "    return -2*np.sum(np.log(density + debug_eps)) + n_coefs*np.log(len(density))\n",
    "\n",
    "# g density function\n",
    "\n",
    "def g_density_function(data, t_0, weights, shape_k, lambda_scale, n_comp):\n",
    "    g_den = weights[0] * \\\n",
    "            weibull_min.pdf(data['D']*(data['T'] - t_0[0]), \\\n",
    "                            c = shape_k[0], \\\n",
    "                            scale = lambda_scale[0])\n",
    "    for i in range(1,n_comp):\n",
    "        g_den = g_den + weights[i] * \\\n",
    "             weibull_min.pdf(data['D']*(data['T'] - t_0[i]), \\\n",
    "                             c = shape_k[i], \\\n",
    "                             scale = lambda_scale[i])\n",
    "    return g_den\n",
    "\n",
    "def g_density_function_2(data, weights, shape_k, lambda_scale, n_comp):\n",
    "    g_den = weights[0] * \\\n",
    "            weibull_min.pdf(data, \\\n",
    "                            c = shape_k[0], \\\n",
    "                            scale = lambda_scale[0])\n",
    "    for i in range(1,n_comp):\n",
    "        g_den = g_den + weights[i] * \\\n",
    "             weibull_min.pdf(data, \\\n",
    "                             c = shape_k[i], \\\n",
    "                             scale = lambda_scale[i])\n",
    "    return g_den\n",
    "\n",
    "  # optimization function\n",
    "\n",
    "def f_weibull(D, T, scale_lambda, shape_k, t_0):\n",
    "    ret = weibull_min.pdf(D*(T - t_0), c = shape_k, scale = scale_lambda)\n",
    "    return ret + 1e-100\n",
    "\n",
    "def log_f_weibull(D, T, scale_lambda, shape_k, t_0):\n",
    "    ret = weibull_min.logpdf(D*(T - t_0), c = shape_k, scale = scale_lambda)\n",
    "    return np.maximum(ret, 1e-10)\n",
    "\n",
    "def d_f_weibull_scale_lambda(D, T, scale_lambda, shape_k, t_0):\n",
    "    ret = -((shape_k**2)*(np.exp(-((D*(T - t_0))/scale_lambda)**shape_k))*(((D*(T - t_0))/scale_lambda)**shape_k)*((((D*(T - t_0))/scale_lambda)**shape_k) - 1))/(D*(T - t_0)*scale_lambda)\n",
    "    return ret + 1e-100\n",
    "\n",
    "def d_f_weibull_shape_k(D, T, scale_lambda, shape_k, t_0):\n",
    "    ret = (np.exp(-((D*(T - t_0))/scale_lambda)**shape_k))*(((D*(T - t_0))/scale_lambda)**shape_k)*(shape_k*((((D*(T - t_0))/scale_lambda)**shape_k)-1)*np.log(((D*(T - t_0))/scale_lambda) - 1))/(D*(t_0 - T))\n",
    "    return ret + 1e-100\n",
    "\n",
    "def d_f_weibull_t_0(D, T, scale_lambda, shape_k, t_0):\n",
    "    ret = shape_k*(np.exp(-((D*(T - t_0))/scale_lambda)**shape_k))*(((D*(T - t_0))/scale_lambda)**shape_k)*(shape_k*(((D*(T - t_0))/scale_lambda)**shape_k) - shape_k + 1)/(D*(t_0 - T)**2)\n",
    "    return ret + 1e-100\n",
    "\n",
    "# actual algorithm\n",
    "\n",
    "def EM_function(data, epsilon = 1e-06, n_comp = 2, debug_eps = 1e-10, lower_t_0 = 9, upper_t_0 = 11, emergency_stop = 1000):\n",
    "\n",
    "    n = len(data)\n",
    "\n",
    "    dt = data.copy()\n",
    "\n",
    "    #pre_candidates_t_0 = random.choices(np.arange(lower_t_0, upper_t_0, 0.01), k=n_comp)\n",
    "    #pre_labels = random.choices(list(range(1, 5)), k=n_comp)\n",
    "    #pre_labels = np.array(pre_labels)\n",
    "    #weights = pre_labels / np.sum(pre_labels)\n",
    "\n",
    "\n",
    "\n",
    "    dt['__original_order__'] = range(n)\n",
    "    dt['sort_key'] = dt['D'] * dt['T']\n",
    "    dt = dt.sort_values(by='sort_key')\n",
    "    dt = dt.drop(columns='sort_key')\n",
    "\n",
    "    if n_comp == 1:\n",
    "      pre_candidates_t_0 = [(lower_t_0 + upper_t_0) / 2]\n",
    "      weights = [1]\n",
    "      w1 = pre_candidates_t_0[0]\n",
    "      split_index = int(weights[0] * n)\n",
    "      dt['candidates_t_0'] = [w1]*split_index\n",
    "    elif n_comp == 2:\n",
    "      pre_candidates_t_0 = [lower_t_0, upper_t_0]\n",
    "      weights = [0.6, 0.4]\n",
    "      w1 = pre_candidates_t_0[0]\n",
    "      w2 = pre_candidates_t_0[1]\n",
    "      split_index = int(weights[0] * n)\n",
    "      dt['candidates_t_0'] = [w1]*split_index + [w2]*(n - split_index)\n",
    "    elif n_comp == 3:\n",
    "      pre_candidates_t_0 = [lower_t_0, (lower_t_0 + upper_t_0) / 2, upper_t_0]\n",
    "      weights = [0.4, 0.3, 0.3]\n",
    "      w1 = pre_candidates_t_0[0]\n",
    "      w2 = pre_candidates_t_0[1]\n",
    "      w3 = pre_candidates_t_0[2]\n",
    "      split_index = int(weights[0] * n)\n",
    "      split_index2 = int(weights[1] * n)\n",
    "      dt['candidates_t_0'] = [w1]*split_index + [w2]*split_index2 + [w3]*(n - split_index - split_index2)\n",
    "    elif n_comp == 4:\n",
    "      m_t_0 = (lower_t_0 + upper_t_0) / 2\n",
    "      q1_t_0 = (lower_t_0 + m_t_0) / 2\n",
    "      q2_t_0 = (m_t_0 + upper_t_0) / 2\n",
    "      pre_candidates_t_0 = [lower_t_0, q1_t_0, q2_t_0, upper_t_0]\n",
    "      weights = [0.25, 0.25, 0.25, 0.25]\n",
    "      w1 = pre_candidates_t_0[0]\n",
    "      w2 = pre_candidates_t_0[1]\n",
    "      w3 = pre_candidates_t_0[2]\n",
    "      w4 = pre_candidates_t_0[3]\n",
    "      split_index = int(weights[0] * n)\n",
    "      split_index2 = int(weights[1] * n)\n",
    "      split_index3 = int(weights[2] * n)\n",
    "      dt['candidates_t_0'] = [w1]*split_index + [w2]*split_index2 + [w3]*split_index3 + [w4]*(n - split_index - split_index2 - split_index3)\n",
    "\n",
    "    dt = dt.sort_values(by='__original_order__').drop(columns='__original_order__')\n",
    "\n",
    "    dt['k'] = dt['D'] * (dt['T'] - dt['candidates_t_0'])\n",
    "\n",
    "\n",
    "    scale_lambda = []\n",
    "    shape_k = []\n",
    "    t_0 = pre_candidates_t_0\n",
    "\n",
    "    for position in pre_candidates_t_0:\n",
    "        group_from_dt = dt[dt['candidates_t_0'] == position]['k']\n",
    "        shape1, loc1, scale1 = weibull_min.fit(group_from_dt, floc=0)\n",
    "        scale_lambda.append(scale1)\n",
    "        shape_k.append(shape1)\n",
    "\n",
    "\n",
    "    new_scale_lambda = scale_lambda\n",
    "    new_shape_k = shape_k\n",
    "    new_t_0 = t_0\n",
    "\n",
    "#############################\n",
    "\n",
    "    #new_scale_lambda = [298, 452]\n",
    "    #new_shape_k = [8.5, 8.2]\n",
    "    #new_t_0 = [8.9, 11.5]\n",
    "\n",
    "#############################\n",
    "\n",
    "    iter_step = 0\n",
    "    convergence_criterion = False\n",
    "    Q_function = float('-inf')\n",
    "    Q_function_trace = []\n",
    "    cont_cor = 10\n",
    "\n",
    "    while not convergence_criterion:\n",
    "\n",
    "        if iter_step % 100 == 0:\n",
    "            print('Please wait... (' + str(iter_step) + f', {cont_cor})')\n",
    "\n",
    "        # E step\n",
    "\n",
    "        v = np.random.rand(n,n_comp)\n",
    "        for i in range(n_comp):\n",
    "            v[:,i] = np.log(weights[i] + debug_eps) + log_f_weibull(dt['D'], dt['T'], scale_lambda[i], shape_k[i], t_0[i])\n",
    "\n",
    "        for i in range(n):\n",
    "            v[i,:] = np.exp(v[i,:] - np.max(v[i,:])) / np.sum(np.exp(v[i,:] - np.max(v[i,:])))\n",
    "            v[i,:] = v[i,:] + debug_eps\n",
    "\n",
    "        # M step\n",
    "\n",
    "        ## weights\n",
    "\n",
    "        #weights_new = np.random.rand(n_comp)\n",
    "\n",
    "        #for i in range(n_comp - 1):\n",
    "        #    raw_weight = (np.sum(v[:, i]) / np.sum(v[:, (n_comp - 1)] + v[:, i])) * (1 - np.sum(weights[:-1]) + weights[i])\n",
    "        #    weights_new[i] = max(raw_weight, 0.1)\n",
    "        #weights_new[-1] = max(1 - np.sum(weights_new[:-1]), 0.1)\n",
    "        #weights = weights_new / np.sum(weights_new)\n",
    "\n",
    "        weights_new = np.sum(v, axis=0) / n\n",
    "        weights = weights_new\n",
    "\n",
    "\n",
    "        ## t_0\n",
    "\n",
    "        for i in range(n_comp):\n",
    "            t_0_opt_function = lambda y: np.sum((v[:,i] / \\\n",
    "                                                f_weibull(D = dt['D'],\n",
    "                                                          T = dt['T'],\n",
    "                                                          scale_lambda = scale_lambda[i],\n",
    "                                                          shape_k = shape_k[i],\n",
    "                                                          t_0 = y)) * \\\n",
    "                                                d_f_weibull_t_0(D = dt['D'],\n",
    "                                                                T = dt['T'],\n",
    "                                                                scale_lambda = scale_lambda[i],\n",
    "                                                                shape_k = shape_k[i],\n",
    "                                                                t_0 = y))\n",
    "            try:\n",
    "              new_t_0[i] = root_scalar(t_0_opt_function, \\\n",
    "                                       bracket=[lower_t_0, upper_t_0],\n",
    "                                       method='bisect').root\n",
    "            except ValueError:\n",
    "              new_t_0[i] = t_0[i]\n",
    "\n",
    "            #new_t_0[i] = root(t_0_opt_function, \\\n",
    "            #                  x0 = np.mean([lower_t_0, upper_t_0])).x\n",
    "\n",
    "        ## scales\n",
    "\n",
    "        for i in range(n_comp):\n",
    "            scale_opt_function = lambda y: np.sum((v[:,i] / \\\n",
    "                                                   f_weibull(D = dt['D'],\n",
    "                                                             T = dt['T'],\n",
    "                                                             scale_lambda = scale_lambda[i],\n",
    "                                                             shape_k = shape_k[i],\n",
    "                                                             t_0 = y)) * \\\n",
    "                                                  d_f_weibull_scale_lambda(D = dt['D'],\n",
    "                                                                           T = dt['T'],\n",
    "                                                                           scale_lambda = scale_lambda[i],\n",
    "                                                                           shape_k = shape_k[i],\n",
    "                                                                           t_0 = y))\n",
    "\n",
    "            new_scale_lambda[i] = root(scale_opt_function,\n",
    "                                       x0 = scale_lambda[i]).x\n",
    "\n",
    "        ## shapes\n",
    "\n",
    "        for i in range(n_comp):\n",
    "            shape_opt_function = lambda y: np.sum((v[:,i] / \\\n",
    "                                                   f_weibull(D = dt['D'],\n",
    "                                                             T = dt['T'],\n",
    "                                                             scale_lambda = scale_lambda[i],\n",
    "                                                             shape_k = shape_k[i],\n",
    "                                                             t_0 = y)) * \\\n",
    "                                                  d_f_weibull_shape_k(D = dt['D'],\n",
    "                                                                      T = dt['T'],\n",
    "                                                                      scale_lambda = scale_lambda[i],\n",
    "                                                                      shape_k = shape_k[i],\n",
    "                                                                      t_0 = y))\n",
    "\n",
    "\n",
    "            new_shape_k[i] = root(shape_opt_function, \\\n",
    "                                  x0 = shape_k[i]).x\n",
    "\n",
    "\n",
    "        #if iter_step == 0:\n",
    "        #  print(\"mean responsibilities (v):\", np.mean(v, axis=0))\n",
    "        ## check convergence\n",
    "\n",
    "        shape_k = new_shape_k\n",
    "        scale_lambda = new_scale_lambda\n",
    "        t_0 = new_t_0\n",
    "\n",
    "\n",
    "        Q_function_n = 0\n",
    "\n",
    "        for i in range(0, n_comp):\n",
    "            Q_function_n = Q_function_n +  np.sum(v[:,i]*(np.log(weights[i] + debug_eps) + log_f_weibull(D = dt['D'],\n",
    "                                                                                                         T = dt['T'],\n",
    "                                                                                                         scale_lambda = scale_lambda[i],\n",
    "                                                                                                         shape_k = shape_k[i],\n",
    "                                                                                                         t_0 = t_0[i])))\n",
    "\n",
    "\n",
    "        if ((np.abs(Q_function - Q_function_n) < epsilon) or iter_step > emergency_stop):\n",
    "            convergence_criterion = True\n",
    "            if iter_step < 100:\n",
    "              convergence_criterion = False\n",
    "\n",
    "        cont_cor = np.abs(Q_function - Q_function_n)\n",
    "        Q_function = Q_function_n\n",
    "        Q_function_trace.append(Q_function)\n",
    "        iter_step = iter_step + 1\n",
    "\n",
    "        for i in range(n_comp):\n",
    "            if weights[i] <= 0:\n",
    "                weights[i] = debug_eps\n",
    "            if shape_k[i] <= 0:\n",
    "                shape_k[i] = debug_eps\n",
    "            if scale_lambda[i] <= 0:\n",
    "                scale_lambda[i] = debug_eps\n",
    "\n",
    "    #if iter_step > emergency_stop:\n",
    "    #    message = \"Again!\"\n",
    "    #else:\n",
    "    #    message = \"Algorithm succeeded.\"\n",
    "\n",
    "    message = '<no message>'\n",
    "\n",
    "    BICs = BIC(g_density_function(dt,\n",
    "                                  t_0,\n",
    "                                  weights,\n",
    "                                  shape_k,\n",
    "                                  scale_lambda,\n",
    "                                  n_comp),\n",
    "               n_coefs = n_comp * 3)\n",
    "\n",
    "    return {'t_0': t_0,\n",
    "            'weights': weights,\n",
    "            'shape': shape_k,\n",
    "            'scale': scale_lambda,\n",
    "            'message': message,\n",
    "            'BIC': BICs,\n",
    "            'trace': Q_function_trace,\n",
    "            'steps': iter_step,\n",
    "            'n_comp': n_comp}\n",
    "\n",
    "\n",
    "def cluster(data, t_0, weights, shape_k, lambda_scale, n_comp, debug_eps = 1e-10):\n",
    "\n",
    "    labels = []\n",
    "\n",
    "    for i in range(len(data)):\n",
    "        pre_labels = [weights[0] * \\\n",
    "                      weibull_min.pdf((data['D']*(data['T'] - t_0[0]))[i], \\\n",
    "                                      c = shape_k[0] + debug_eps, \\\n",
    "                                      scale = lambda_scale[0] + debug_eps)]\n",
    "        for j in range(1,n_comp):\n",
    "            pre_labels.append(weights[j] * \\\n",
    "                              weibull_min.pdf((data['D']*(data['T'] - t_0[j]))[i], \\\n",
    "                                              c = shape_k[j] + debug_eps, \\\n",
    "                                              scale = lambda_scale[j] + debug_eps))\n",
    "\n",
    "        pre_labels = pre_labels / sum(pre_labels)\n",
    "        pre_labels = pre_labels.tolist()\n",
    "        labels.append(t_0[pre_labels.index(max(pre_labels))])\n",
    "\n",
    "\n",
    "    return labels\n",
    "\n",
    "epsilon = 1e-6"
   ]
  },
  {
   "cell_type": "markdown",
   "id": "ca887f25",
   "metadata": {},
   "source": [
    "## Exploration"
   ]
  },
  {
   "cell_type": "code",
   "execution_count": 7,
   "id": "833c8c6f",
   "metadata": {},
   "outputs": [],
   "source": [
    "necrodes = pd.read_excel(\"second_project/Necrodes.xlsx\")\n",
    "creophilus = pd.read_excel(\"second_project/Creophilus.xlsx\")"
   ]
  },
  {
   "cell_type": "code",
   "execution_count": 8,
   "id": "3fb47cae",
   "metadata": {},
   "outputs": [],
   "source": [
    "necrodes = necrodes[['TEMP.', 'TIME (D)']].rename(columns={\n",
    "    \"TEMP.\": \"T\",\n",
    "    \"TIME (D)\": \"D\"\n",
    "})\n",
    "\n",
    "creophilus = creophilus[['T', 'Total immature development']].rename(columns={\n",
    "    \"T\": \"T\",\n",
    "    \"Total immature development\": \"D\"\n",
    "})"
   ]
  },
  {
   "cell_type": "code",
   "execution_count": 9,
   "id": "161c4fb2",
   "metadata": {},
   "outputs": [],
   "source": [
    "necrodes['DT'] = necrodes['D']*necrodes['T']\n",
    "\n",
    "creophilus['DT'] = creophilus['D']*creophilus['T']"
   ]
  },
  {
   "cell_type": "code",
   "execution_count": 10,
   "id": "83d174e7",
   "metadata": {},
   "outputs": [
    {
     "data": {
      "image/png": "[encoded data removed]",
      "text/plain": [
       "<Figure size 640x480 with 1 Axes>"
      ]
     },
     "metadata": {},
     "output_type": "display_data"
    }
   ],
   "source": [
    "necrodes.groupby(\"T\")[\"D\"].std().plot()\n",
    "plt.show()"
   ]
  },
  {
   "cell_type": "code",
   "execution_count": 11,
   "id": "7f0b5613",
   "metadata": {},
   "outputs": [
    {
     "data": {
      "image/png": "[encoded data removed]",
      "text/plain": [
       "<Figure size 640x480 with 1 Axes>"
      ]
     },
     "metadata": {},
     "output_type": "display_data"
    }
   ],
   "source": [
    "plt.scatter(necrodes[\"T\"], necrodes[\"D\"])\n",
    "plt.xlabel(\"T\")\n",
    "plt.ylabel(\"D\")\n",
    "plt.title(\"Necrodes littoralis\")\n",
    "plt.show()"
   ]
  },
  {
   "cell_type": "code",
   "execution_count": 12,
   "id": "92398b13",
   "metadata": {},
   "outputs": [
    {
     "data": {
      "image/png": "[encoded data removed]",
      "text/plain": [
       "<Figure size 640x480 with 1 Axes>"
      ]
     },
     "metadata": {},
     "output_type": "display_data"
    }
   ],
   "source": [
    "creophilus.groupby(\"T\")[\"D\"].std().plot()\n",
    "plt.show()"
   ]
  },
  {
   "cell_type": "code",
   "execution_count": 13,
   "id": "1ea549b8",
   "metadata": {},
   "outputs": [
    {
     "data": {
      "image/png": "[encoded data removed]",
      "text/plain": [
       "<Figure size 640x480 with 1 Axes>"
      ]
     },
     "metadata": {},
     "output_type": "display_data"
    }
   ],
   "source": [
    "plt.scatter(creophilus[\"T\"], creophilus[\"D\"])\n",
    "plt.xlabel(\"T\")\n",
    "plt.ylabel(\"D\")\n",
    "plt.title(\"Creophilus maxillosus\")\n",
    "plt.show()"
   ]
  },
  {
   "cell_type": "markdown",
   "id": "bb30f2e8",
   "metadata": {},
   "source": [
    "## Simulation"
   ]
  },
  {
   "cell_type": "code",
   "execution_count": 14,
   "id": "5193f77d",
   "metadata": {},
   "outputs": [],
   "source": [
    "k = 400\n",
    "t = 8\n",
    "\n",
    "# k = D(T - t)\n",
    "# D = k/(T - t)\n",
    "\n",
    "T1 = np.array([10, 14, 22, 25, 33, 35])\n",
    "T2 = np.array([18, 21, 22, 25, 26, 27])\n",
    "\n",
    "std1 = -0.36*T1 + 13.6\n",
    "std2 = -0.36*T2 + 13.6\n",
    "\n",
    "mu1 = k/(T1 - 8)\n",
    "mu2 = k/(T2 - 8)\n",
    "\n",
    "df_T1 = pd.DataFrame({'D': [], 'T': []})\n",
    "\n",
    "for i in range(6):\n",
    "    df1 = pd.DataFrame({'T': [T1[i]]*100,\n",
    "                       'D': np.random.normal(loc=mu1[i], scale=std1[i], size=100)})\n",
    "    \n",
    "    df_T1 = pd.concat([df_T1, df1], ignore_index = True)\n",
    "    \n",
    "df_T2 = pd.DataFrame({'D': [], 'T': []})\n",
    "\n",
    "for i in range(6):\n",
    "    df1 = pd.DataFrame({'T': [T2[i]]*100,\n",
    "                       'D': np.random.normal(loc=mu2[i], scale=std2[i], size=100)})\n",
    "    \n",
    "    df_T2 = pd.concat([df_T2, df1], ignore_index = True)\n",
    "\n",
    "df_T1['DT'] = df_T1['D']*df_T1['T']\n",
    "df_T2['DT'] = df_T2['D']*df_T2['T']"
   ]
  },
  {
   "cell_type": "code",
   "execution_count": 16,
   "id": "98597d45",
   "metadata": {},
   "outputs": [
    {
     "name": "stdout",
     "output_type": "stream",
     "text": [
      "RMA t: 7.978408643365325, k: 403.7328143000172, stdT1: 9.118052911059952\n"
     ]
    }
   ],
   "source": [
    "df_T1_calc = df_T1.groupby(\"T\", as_index=False)[\"D\"].median()\n",
    "df_T1_calc['DT'] = df_T1_calc['D']*df_T1_calc['T']\n",
    "#df_T1_calc = df_T1\n",
    "\n",
    "x = df_T1_calc[\"D\"].to_numpy()\n",
    "y = df_T1_calc[\"DT\"].to_numpy()\n",
    "\n",
    "stdT1 = T1.std()\n",
    "\n",
    "r = np.corrcoef(x, y)[0, 1]\n",
    "slope = np.sign(r) * (np.std(y, ddof=1) / np.std(x, ddof=1))\n",
    "intercept = np.mean(y) - slope * np.mean(x)\n",
    "\n",
    "print(f\"RMA t: {slope}, k: {intercept}, stdT1: {stdT1}\")"
   ]
  },
  {
   "cell_type": "code",
   "execution_count": 1,
   "id": "bf2a140d",
   "metadata": {},
   "outputs": [
    {
     "data": {
      "text/plain": [
       "83.13888888888886"
      ]
     },
     "execution_count": 1,
     "metadata": {},
     "output_type": "execute_result"
    }
   ],
   "source": [
    "9.118052911059952**2"
   ]
  },
  {
   "cell_type": "code",
   "execution_count": 18,
   "id": "5a5c949a",
   "metadata": {},
   "outputs": [
    {
     "name": "stdout",
     "output_type": "stream",
     "text": [
      "RMA t: 7.5209934777443985, k: 413.9964128867348, stdT2: 3.131382371342656\n"
     ]
    }
   ],
   "source": [
    "df_T2_calc = df_T2.groupby(\"T\", as_index=False)[\"D\"].median()\n",
    "df_T2_calc['DT'] = df_T2_calc['D']*df_T2_calc['T']\n",
    "#df_T2_calc = df_T2\n",
    "\n",
    "x = df_T2_calc[\"D\"].to_numpy()\n",
    "y = df_T2_calc[\"DT\"].to_numpy()\n",
    "\n",
    "stdT2 = T2.std()\n",
    "\n",
    "r = np.corrcoef(x, y)[0, 1]\n",
    "slope = np.sign(r) * (np.std(y, ddof=1) / np.std(x, ddof=1))\n",
    "intercept = np.mean(y) - slope * np.mean(x)\n",
    "\n",
    "print(f\"RMA t: {slope}, k: {intercept}, stdT2: {stdT2}\")"
   ]
  },
  {
   "cell_type": "code",
   "execution_count": 2,
   "id": "04679647",
   "metadata": {},
   "outputs": [
    {
     "data": {
      "text/plain": [
       "9.805555555555555"
      ]
     },
     "execution_count": 2,
     "metadata": {},
     "output_type": "execute_result"
    }
   ],
   "source": [
    "3.131382371342656**2"
   ]
  },
  {
   "cell_type": "code",
   "execution_count": 104,
   "id": "480da238",
   "metadata": {},
   "outputs": [
    {
     "name": "stdout",
     "output_type": "stream",
     "text": [
      "Please wait... (0, 10)\n"
     ]
    },
    {
     "name": "stderr",
     "output_type": "stream",
     "text": [
      "/Users/ww.jedrzej/miniconda3/envs/ncn/lib/python3.10/site-packages/pandas/core/arraylike.py:399: RuntimeWarning: invalid value encountered in log\n",
      "  result = getattr(ufunc, method)(*inputs, **kwargs)\n"
     ]
    },
    {
     "name": "stdout",
     "output_type": "stream",
     "text": [
      "Please wait... (100, 0.0)\n"
     ]
    },
    {
     "data": {
      "text/plain": [
       "{'t_0': [8.43171261727366],\n",
       " 'weights': array([1.]),\n",
       " 'shape': [array([13.17399474])],\n",
       " 'scale': [array([426.33478465])],\n",
       " 'message': '<no message>',\n",
       " 'BIC': 7915.982304754485,\n",
       " 'trace': [1.7999987670808156e-07,\n",
       "  1.7999987670808156e-07,\n",
       "  1.7999987670808156e-07,\n",
       "  1.7999987670808156e-07,\n",
       "  1.7999987670808156e-07,\n",
       "  1.7999987670808156e-07,\n",
       "  1.7999987670808156e-07,\n",
       "  1.7999987670808156e-07,\n",
       "  1.7999987670808156e-07,\n",
       "  1.7999987670808156e-07,\n",
       "  1.7999987670808156e-07,\n",
       "  1.7999987670808156e-07,\n",
       "  1.7999987670808156e-07,\n",
       "  1.7999987670808156e-07,\n",
       "  1.7999987670808156e-07,\n",
       "  1.7999987670808156e-07,\n",
       "  1.7999987670808156e-07,\n",
       "  1.7999987670808156e-07,\n",
       "  1.7999987670808156e-07,\n",
       "  1.7999987670808156e-07,\n",
       "  1.7999987670808156e-07,\n",
       "  1.7999987670808156e-07,\n",
       "  1.7999987670808156e-07,\n",
       "  1.7999987670808156e-07,\n",
       "  1.7999987670808156e-07,\n",
       "  1.7999987670808156e-07,\n",
       "  1.7999987670808156e-07,\n",
       "  1.7999987670808156e-07,\n",
       "  1.7999987670808156e-07,\n",
       "  1.7999987670808156e-07,\n",
       "  1.7999987670808156e-07,\n",
       "  1.7999987670808156e-07,\n",
       "  1.7999987670808156e-07,\n",
       "  1.7999987670808156e-07,\n",
       "  1.7999987670808156e-07,\n",
       "  1.7999987670808156e-07,\n",
       "  1.7999987670808156e-07,\n",
       "  1.7999987670808156e-07,\n",
       "  1.7999987670808156e-07,\n",
       "  1.7999987670808156e-07,\n",
       "  1.7999987670808156e-07,\n",
       "  1.7999987670808156e-07,\n",
       "  1.7999987670808156e-07,\n",
       "  1.7999987670808156e-07,\n",
       "  1.7999987670808156e-07,\n",
       "  1.7999987670808156e-07,\n",
       "  1.7999987670808156e-07,\n",
       "  1.7999987670808156e-07,\n",
       "  1.7999987670808156e-07,\n",
       "  1.7999987670808156e-07,\n",
       "  1.7999987670808156e-07,\n",
       "  1.7999987670808156e-07,\n",
       "  1.7999987670808156e-07,\n",
       "  1.7999987670808156e-07,\n",
       "  1.7999987670808156e-07,\n",
       "  1.7999987670808156e-07,\n",
       "  1.7999987670808156e-07,\n",
       "  1.7999987670808156e-07,\n",
       "  1.7999987670808156e-07,\n",
       "  1.7999987670808156e-07,\n",
       "  1.7999987670808156e-07,\n",
       "  1.7999987670808156e-07,\n",
       "  1.7999987670808156e-07,\n",
       "  1.7999987670808156e-07,\n",
       "  1.7999987670808156e-07,\n",
       "  1.7999987670808156e-07,\n",
       "  1.7999987670808156e-07,\n",
       "  1.7999987670808156e-07,\n",
       "  1.7999987670808156e-07,\n",
       "  1.7999987670808156e-07,\n",
       "  1.7999987670808156e-07,\n",
       "  1.7999987670808156e-07,\n",
       "  1.7999987670808156e-07,\n",
       "  1.7999987670808156e-07,\n",
       "  1.7999987670808156e-07,\n",
       "  1.7999987670808156e-07,\n",
       "  1.7999987670808156e-07,\n",
       "  1.7999987670808156e-07,\n",
       "  1.7999987670808156e-07,\n",
       "  1.7999987670808156e-07,\n",
       "  1.7999987670808156e-07,\n",
       "  1.7999987670808156e-07,\n",
       "  1.7999987670808156e-07,\n",
       "  1.7999987670808156e-07,\n",
       "  1.7999987670808156e-07,\n",
       "  1.7999987670808156e-07,\n",
       "  1.7999987670808156e-07,\n",
       "  1.7999987670808156e-07,\n",
       "  1.7999987670808156e-07,\n",
       "  1.7999987670808156e-07,\n",
       "  1.7999987670808156e-07,\n",
       "  1.7999987670808156e-07,\n",
       "  1.7999987670808156e-07,\n",
       "  1.7999987670808156e-07,\n",
       "  1.7999987670808156e-07,\n",
       "  1.7999987670808156e-07,\n",
       "  1.7999987670808156e-07,\n",
       "  1.7999987670808156e-07,\n",
       "  1.7999987670808156e-07,\n",
       "  1.7999987670808156e-07,\n",
       "  1.7999987670808156e-07],\n",
       " 'steps': 101,\n",
       " 'n_comp': 1}"
      ]
     },
     "execution_count": 104,
     "metadata": {},
     "output_type": "execute_result"
    }
   ],
   "source": [
    "EM_function(df_T2, epsilon=epsilon, n_comp=1, lower_t_0 = 7, upper_t_0 = 9, emergency_stop = 1000)"
   ]
  },
  {
   "cell_type": "code",
   "execution_count": 109,
   "id": "020ee3db",
   "metadata": {},
   "outputs": [
    {
     "data": {
      "text/plain": [
       "409.9283331780106"
      ]
     },
     "execution_count": 109,
     "metadata": {},
     "output_type": "execute_result"
    }
   ],
   "source": [
    "gamma(1 + 1/13.17399474)*426.33478465"
   ]
  },
  {
   "cell_type": "code",
   "execution_count": 105,
   "id": "e8d276bd",
   "metadata": {},
   "outputs": [
    {
     "name": "stdout",
     "output_type": "stream",
     "text": [
      "Please wait... (0, 10)\n"
     ]
    },
    {
     "name": "stderr",
     "output_type": "stream",
     "text": [
      "/Users/ww.jedrzej/miniconda3/envs/ncn/lib/python3.10/site-packages/pandas/core/arraylike.py:399: RuntimeWarning: invalid value encountered in log\n",
      "  result = getattr(ufunc, method)(*inputs, **kwargs)\n"
     ]
    },
    {
     "name": "stdout",
     "output_type": "stream",
     "text": [
      "Please wait... (100, 0.0)\n"
     ]
    },
    {
     "data": {
      "text/plain": [
       "{'t_0': [8.113421670042953],\n",
       " 'weights': array([1.]),\n",
       " 'shape': [array([12.67067007])],\n",
       " 'scale': [array([423.58030657])],\n",
       " 'message': '<no message>',\n",
       " 'BIC': 7017.566372067241,\n",
       " 'trace': [1.7999987670808156e-07,\n",
       "  1.7999987670808156e-07,\n",
       "  1.7999987670808156e-07,\n",
       "  1.7999987670808156e-07,\n",
       "  1.7999987670808156e-07,\n",
       "  1.7999987670808156e-07,\n",
       "  1.7999987670808156e-07,\n",
       "  1.7999987670808156e-07,\n",
       "  1.7999987670808156e-07,\n",
       "  1.7999987670808156e-07,\n",
       "  1.7999987670808156e-07,\n",
       "  1.7999987670808156e-07,\n",
       "  1.7999987670808156e-07,\n",
       "  1.7999987670808156e-07,\n",
       "  1.7999987670808156e-07,\n",
       "  1.7999987670808156e-07,\n",
       "  1.7999987670808156e-07,\n",
       "  1.7999987670808156e-07,\n",
       "  1.7999987670808156e-07,\n",
       "  1.7999987670808156e-07,\n",
       "  1.7999987670808156e-07,\n",
       "  1.7999987670808156e-07,\n",
       "  1.7999987670808156e-07,\n",
       "  1.7999987670808156e-07,\n",
       "  1.7999987670808156e-07,\n",
       "  1.7999987670808156e-07,\n",
       "  1.7999987670808156e-07,\n",
       "  1.7999987670808156e-07,\n",
       "  1.7999987670808156e-07,\n",
       "  1.7999987670808156e-07,\n",
       "  1.7999987670808156e-07,\n",
       "  1.7999987670808156e-07,\n",
       "  1.7999987670808156e-07,\n",
       "  1.7999987670808156e-07,\n",
       "  1.7999987670808156e-07,\n",
       "  1.7999987670808156e-07,\n",
       "  1.7999987670808156e-07,\n",
       "  1.7999987670808156e-07,\n",
       "  1.7999987670808156e-07,\n",
       "  1.7999987670808156e-07,\n",
       "  1.7999987670808156e-07,\n",
       "  1.7999987670808156e-07,\n",
       "  1.7999987670808156e-07,\n",
       "  1.7999987670808156e-07,\n",
       "  1.7999987670808156e-07,\n",
       "  1.7999987670808156e-07,\n",
       "  1.7999987670808156e-07,\n",
       "  1.7999987670808156e-07,\n",
       "  1.7999987670808156e-07,\n",
       "  1.7999987670808156e-07,\n",
       "  1.7999987670808156e-07,\n",
       "  1.7999987670808156e-07,\n",
       "  1.7999987670808156e-07,\n",
       "  1.7999987670808156e-07,\n",
       "  1.7999987670808156e-07,\n",
       "  1.7999987670808156e-07,\n",
       "  1.7999987670808156e-07,\n",
       "  1.7999987670808156e-07,\n",
       "  1.7999987670808156e-07,\n",
       "  1.7999987670808156e-07,\n",
       "  1.7999987670808156e-07,\n",
       "  1.7999987670808156e-07,\n",
       "  1.7999987670808156e-07,\n",
       "  1.7999987670808156e-07,\n",
       "  1.7999987670808156e-07,\n",
       "  1.7999987670808156e-07,\n",
       "  1.7999987670808156e-07,\n",
       "  1.7999987670808156e-07,\n",
       "  1.7999987670808156e-07,\n",
       "  1.7999987670808156e-07,\n",
       "  1.7999987670808156e-07,\n",
       "  1.7999987670808156e-07,\n",
       "  1.7999987670808156e-07,\n",
       "  1.7999987670808156e-07,\n",
       "  1.7999987670808156e-07,\n",
       "  1.7999987670808156e-07,\n",
       "  1.7999987670808156e-07,\n",
       "  1.7999987670808156e-07,\n",
       "  1.7999987670808156e-07,\n",
       "  1.7999987670808156e-07,\n",
       "  1.7999987670808156e-07,\n",
       "  1.7999987670808156e-07,\n",
       "  1.7999987670808156e-07,\n",
       "  1.7999987670808156e-07,\n",
       "  1.7999987670808156e-07,\n",
       "  1.7999987670808156e-07,\n",
       "  1.7999987670808156e-07,\n",
       "  1.7999987670808156e-07,\n",
       "  1.7999987670808156e-07,\n",
       "  1.7999987670808156e-07,\n",
       "  1.7999987670808156e-07,\n",
       "  1.7999987670808156e-07,\n",
       "  1.7999987670808156e-07,\n",
       "  1.7999987670808156e-07,\n",
       "  1.7999987670808156e-07,\n",
       "  1.7999987670808156e-07,\n",
       "  1.7999987670808156e-07,\n",
       "  1.7999987670808156e-07,\n",
       "  1.7999987670808156e-07,\n",
       "  1.7999987670808156e-07,\n",
       "  1.7999987670808156e-07],\n",
       " 'steps': 101,\n",
       " 'n_comp': 1}"
      ]
     },
     "execution_count": 105,
     "metadata": {},
     "output_type": "execute_result"
    }
   ],
   "source": [
    "EM_function(df_T1, epsilon=epsilon, n_comp=1, lower_t_0 = 7, upper_t_0 = 9, emergency_stop = 1000)"
   ]
  },
  {
   "cell_type": "code",
   "execution_count": 110,
   "id": "75c5879f",
   "metadata": {},
   "outputs": [
    {
     "data": {
      "text/plain": [
       "406.71948920116546"
      ]
     },
     "execution_count": 110,
     "metadata": {},
     "output_type": "execute_result"
    }
   ],
   "source": [
    "gamma(1 + 1/12.67067007)*423.58030657"
   ]
  },
  {
   "cell_type": "code",
   "execution_count": 22,
   "id": "4ada005b",
   "metadata": {},
   "outputs": [
    {
     "data": {
      "image/png": "[encoded data removed]",
      "text/plain": [
       "<Figure size 640x480 with 1 Axes>"
      ]
     },
     "metadata": {},
     "output_type": "display_data"
    }
   ],
   "source": [
    "plt.scatter(df_T2[\"D\"], df_T2[\"DT\"])\n",
    "plt.xlabel(\"D\")\n",
    "plt.ylabel(\"DT\")\n",
    "plt.title(\"Experimental design\")\n",
    "plt.show()"
   ]
  },
  {
   "cell_type": "code",
   "execution_count": null,
   "id": "a6a8ffba",
   "metadata": {},
   "outputs": [],
   "source": []
  }
 ],
 "metadata": {
  "kernelspec": {
   "display_name": "Python 3 (ipykernel)",
   "language": "python",
   "name": "python3"
  },
  "language_info": {
   "codemirror_mode": {
    "name": "ipython",
    "version": 3
   },
   "file_extension": ".py",
   "mimetype": "text/x-python",
   "name": "python",
   "nbconvert_exporter": "python",
   "pygments_lexer": "ipython3",
   "version": "3.10.0"
  }
 },
 "nbformat": 4,
 "nbformat_minor": 5
}
