{
 "cells": [
  {
   "cell_type": "markdown",
   "id": "adb1b18f",
   "metadata": {},
   "source": [
    "# PMI Estimation Simulation"
   ]
  },
  {
   "cell_type": "code",
   "execution_count": 1,
   "id": "df2af06b",
   "metadata": {},
   "outputs": [],
   "source": [
    "import pandas as pd\n",
    "from scipy.stats import weibull_min"
   ]
  },
  {
   "cell_type": "code",
   "execution_count": 2,
   "id": "86cd1a69",
   "metadata": {},
   "outputs": [],
   "source": [
    "def cluster(data, t_0, weights, shape_k, lambda_scale, n_comp, debug_eps = 1e-10):\n",
    "    \n",
    "    labels = []\n",
    "    \n",
    "    for i in range(len(data)):\n",
    "        pre_labels = [weights[0] * \\\n",
    "                      weibull_min.pdf((data['D']*(data['T'] - t_0[0]))[i], \\\n",
    "                                      c = shape_k[0] + debug_eps, \\\n",
    "                                      scale = lambda_scale[0] + debug_eps)]\n",
    "        for j in range(1,n_comp):\n",
    "            pre_labels.append(weights[j] * \\\n",
    "                              weibull_min.pdf((data['D']*(data['T'] - t_0[j]))[i], \\\n",
    "                                              c = shape_k[j] + debug_eps, \\\n",
    "                                              scale = lambda_scale[j] + debug_eps))\n",
    "        \n",
    "        pre_labels = pre_labels / sum(pre_labels)\n",
    "        pre_labels = pre_labels.tolist()\n",
    "        labels.append(t_0[pre_labels.index(max(pre_labels))])\n",
    "        \n",
    "\n",
    "    return labels\n",
    "\n",
    "def weibull_mixture_model(x, weights, shape_k, lambda_scale, n_comp):\n",
    "    result = 0\n",
    "    for i in range(n_comp):\n",
    "        result += weights[i]*weibull_min.cdf(x, c=shape_k[i], scale=lambda_scale[i])\n",
    "    return result\n",
    "\n",
    "def quantile(q, weights, shape_k, lambda_scale, n_comp, step = 0.01, debug_eps = 1e-10):\n",
    "    def condition(x):\n",
    "        return weibull_mixture_model(x, weights, shape_k, lambda_scale, n_comp)\n",
    "    x = step\n",
    "    while condition(x) <= q:\n",
    "        x += step\n",
    "    return (condition(x), x)"
   ]
  },
  {
   "cell_type": "code",
   "execution_count": 3,
   "id": "88d2be29",
   "metadata": {},
   "outputs": [],
   "source": [
    "necrodes = pd.read_excel(\"second_project/necrodes.xlsx\")\n",
    "creophilus = pd.read_excel(\"second_project/creophilus.xlsx\")\n",
    "\n",
    "necrodes = necrodes[['TEMP.', 'TIME (D)']].rename({'TEMP.': 'T', 'TIME (D)': 'D'}, axis = 1)\n",
    "creophilus = creophilus[['T', 'Total immature development']].rename({'Total immature development': 'D'}, axis = 1)"
   ]
  },
  {
   "cell_type": "code",
   "execution_count": 4,
   "id": "8078f021",
   "metadata": {},
   "outputs": [],
   "source": [
    "# Creophilus\n",
    "Creophilus_shape_k = [14.03, 6.72]\n",
    "Creophilus_scale_lambda = [442.74, 556.66]\n",
    "Creophilus_weights = [0.87, 0.13]\n",
    "Creophilus_MM_t_0 = [11.25, 11.15]\n",
    "\n",
    "dict_labs = {11.25: 'regular', 11.15: 'outliers'}\n",
    "\n",
    "pre_Creophilus_MM_lower_k_combined = quantile(0.025, \n",
    "                               weights = Creophilus_weights, \n",
    "                               shape_k = Creophilus_shape_k,\n",
    "                               lambda_scale = Creophilus_scale_lambda,\n",
    "                               n_comp = 2, \n",
    "                               step = 0.01, \n",
    "                               debug_eps = 1e-10)\n",
    "\n",
    "MM_Creophilus_lower_k_combined = pre_Creophilus_MM_lower_k_combined[1]\n",
    "\n",
    "pre_Creophilus_MM_upper_k_combined = quantile(0.975, \n",
    "                               weights = Creophilus_weights, \n",
    "                               shape_k = Creophilus_shape_k,\n",
    "                               lambda_scale = Creophilus_scale_lambda,\n",
    "                               n_comp = 2, \n",
    "                               step = 0.01, \n",
    "                               debug_eps = 1e-10)\n",
    "\n",
    "MM_Creophilus_upper_k_combined = pre_Creophilus_MM_upper_k_combined[1]\n",
    "\n",
    "Creophilus_IT_k = 417.33\n",
    "Creophilus_se = 19.52\n",
    "Creophilus_IT_t_0 = 11.58\n",
    "Creophilus_IT_lower_k = Creophilus_IT_k - 1.96*Creophilus_se\n",
    "Creophilus_IT_upper_k = Creophilus_IT_k + 1.96*Creophilus_se\n",
    "\n",
    "pre_labs = cluster(creophilus, \n",
    "                   Creophilus_MM_t_0, \n",
    "                   Creophilus_weights, \n",
    "                   Creophilus_shape_k, \n",
    "                   Creophilus_scale_lambda, \n",
    "                   2, \n",
    "                   debug_eps = 1e-10)\n",
    "\n",
    "creophilus['population'] = [dict_labs[i] for i in pre_labs]\n",
    "creophilus['t_0'] = pre_labs"
   ]
  },
  {
   "cell_type": "code",
   "execution_count": 5,
   "id": "53885744",
   "metadata": {},
   "outputs": [],
   "source": [
    "creophilus['MM'] = ((creophilus['D'] < MM_Creophilus_upper_k_combined/(creophilus['T'] - creophilus['t_0'])) & (creophilus['D'] > MM_Creophilus_lower_k_combined/(creophilus['T'] - creophilus['t_0']))).astype(int)\n",
    "creophilus['IT'] = ((creophilus['D'] < Creophilus_IT_upper_k/(creophilus['T'] - Creophilus_IT_t_0)) & (creophilus['D'] > Creophilus_IT_lower_k/(creophilus['T'] - Creophilus_IT_t_0))).astype(int)"
   ]
  },
  {
   "cell_type": "code",
   "execution_count": 6,
   "id": "514044fe",
   "metadata": {},
   "outputs": [],
   "source": [
    "creophilus_regular = creophilus[creophilus['population'] == 'regular'].copy()\n",
    "creophilus_outliers = creophilus[creophilus['population'] == 'outliers'].copy()"
   ]
  },
  {
   "cell_type": "code",
   "execution_count": 7,
   "id": "7c112c03",
   "metadata": {},
   "outputs": [],
   "source": [
    "k_upper = weibull_min.ppf(0.975, c=Creophilus_shape_k[0], scale=Creophilus_scale_lambda[0])\n",
    "k_lower = weibull_min.ppf(0.025, c=Creophilus_shape_k[0], scale=Creophilus_scale_lambda[0])\n",
    "\n",
    "creophilus_regular['MM_regular'] = ((creophilus_regular['D'] < k_upper/(creophilus_regular['T'] - creophilus_regular['t_0'])) & (creophilus_regular['D'] > k_lower/(creophilus_regular['T'] - creophilus_regular['t_0']))).astype(int)\n",
    "\n",
    "k_upper = weibull_min.ppf(0.975, c=Creophilus_shape_k[1], scale=Creophilus_scale_lambda[1])\n",
    "k_lower = weibull_min.ppf(0.025, c=Creophilus_shape_k[1], scale=Creophilus_scale_lambda[1])\n",
    "\n",
    "creophilus_outliers['MM_outliers'] = ((creophilus_outliers['D'] < k_upper/(creophilus_outliers['T'] - creophilus_outliers['t_0'])) & (creophilus_outliers['D'] > k_lower/(creophilus_outliers['T'] - creophilus_outliers['t_0']))).astype(int)"
   ]
  },
  {
   "cell_type": "code",
   "execution_count": 28,
   "id": "f678578c",
   "metadata": {},
   "outputs": [
    {
     "data": {
      "text/html": [
       "<div>\n",
       "<style scoped>\n",
       "    .dataframe tbody tr th:only-of-type {\n",
       "        vertical-align: middle;\n",
       "    }\n",
       "\n",
       "    .dataframe tbody tr th {\n",
       "        vertical-align: top;\n",
       "    }\n",
       "\n",
       "    .dataframe thead th {\n",
       "        text-align: right;\n",
       "    }\n",
       "</style>\n",
       "<table border=\"1\" class=\"dataframe\">\n",
       "  <thead>\n",
       "    <tr style=\"text-align: right;\">\n",
       "      <th></th>\n",
       "      <th>MM</th>\n",
       "      <th>IT</th>\n",
       "      <th>T</th>\n",
       "    </tr>\n",
       "  </thead>\n",
       "  <tbody>\n",
       "    <tr>\n",
       "      <th>0</th>\n",
       "      <td>0.857143</td>\n",
       "      <td>0.428571</td>\n",
       "      <td>15.0</td>\n",
       "    </tr>\n",
       "    <tr>\n",
       "      <th>1</th>\n",
       "      <td>0.809524</td>\n",
       "      <td>0.333333</td>\n",
       "      <td>17.5</td>\n",
       "    </tr>\n",
       "    <tr>\n",
       "      <th>2</th>\n",
       "      <td>1.000000</td>\n",
       "      <td>0.375000</td>\n",
       "      <td>20.0</td>\n",
       "    </tr>\n",
       "    <tr>\n",
       "      <th>3</th>\n",
       "      <td>1.000000</td>\n",
       "      <td>0.700000</td>\n",
       "      <td>22.5</td>\n",
       "    </tr>\n",
       "    <tr>\n",
       "      <th>4</th>\n",
       "      <td>1.000000</td>\n",
       "      <td>0.833333</td>\n",
       "      <td>25.0</td>\n",
       "    </tr>\n",
       "    <tr>\n",
       "      <th>5</th>\n",
       "      <td>1.000000</td>\n",
       "      <td>0.555556</td>\n",
       "      <td>27.5</td>\n",
       "    </tr>\n",
       "    <tr>\n",
       "      <th>6</th>\n",
       "      <td>1.000000</td>\n",
       "      <td>0.846154</td>\n",
       "      <td>30.0</td>\n",
       "    </tr>\n",
       "  </tbody>\n",
       "</table>\n",
       "</div>"
      ],
      "text/plain": [
       "         MM        IT     T\n",
       "0  0.857143  0.428571  15.0\n",
       "1  0.809524  0.333333  17.5\n",
       "2  1.000000  0.375000  20.0\n",
       "3  1.000000  0.700000  22.5\n",
       "4  1.000000  0.833333  25.0\n",
       "5  1.000000  0.555556  27.5\n",
       "6  1.000000  0.846154  30.0"
      ]
     },
     "execution_count": 28,
     "metadata": {},
     "output_type": "execute_result"
    }
   ],
   "source": [
    "summary_creophilus = (\n",
    "    creophilus.groupby(\"T\", as_index=False)\n",
    "      .agg({\"MM\": \"mean\", \"IT\": \"mean\", \"T\": \"mean\"})\n",
    ")\n",
    "summary_creophilus"
   ]
  },
  {
   "cell_type": "code",
   "execution_count": 9,
   "id": "7cb19323",
   "metadata": {},
   "outputs": [
    {
     "data": {
      "text/plain": [
       "MM    0.965318\n",
       "IT    0.589595\n",
       "dtype: float64"
      ]
     },
     "execution_count": 9,
     "metadata": {},
     "output_type": "execute_result"
    }
   ],
   "source": [
    "creophilus[['MM', 'IT']].mean(axis=0)"
   ]
  },
  {
   "cell_type": "code",
   "execution_count": 29,
   "id": "33531e73",
   "metadata": {},
   "outputs": [
    {
     "data": {
      "text/html": [
       "<div>\n",
       "<style scoped>\n",
       "    .dataframe tbody tr th:only-of-type {\n",
       "        vertical-align: middle;\n",
       "    }\n",
       "\n",
       "    .dataframe tbody tr th {\n",
       "        vertical-align: top;\n",
       "    }\n",
       "\n",
       "    .dataframe thead th {\n",
       "        text-align: right;\n",
       "    }\n",
       "</style>\n",
       "<table border=\"1\" class=\"dataframe\">\n",
       "  <thead>\n",
       "    <tr style=\"text-align: right;\">\n",
       "      <th></th>\n",
       "      <th>MM_regular</th>\n",
       "      <th>T</th>\n",
       "    </tr>\n",
       "  </thead>\n",
       "  <tbody>\n",
       "    <tr>\n",
       "      <th>0</th>\n",
       "      <td>0.777778</td>\n",
       "      <td>15.0</td>\n",
       "    </tr>\n",
       "    <tr>\n",
       "      <th>1</th>\n",
       "      <td>0.705882</td>\n",
       "      <td>17.5</td>\n",
       "    </tr>\n",
       "    <tr>\n",
       "      <th>2</th>\n",
       "      <td>1.000000</td>\n",
       "      <td>20.0</td>\n",
       "    </tr>\n",
       "    <tr>\n",
       "      <th>3</th>\n",
       "      <td>1.000000</td>\n",
       "      <td>22.5</td>\n",
       "    </tr>\n",
       "    <tr>\n",
       "      <th>4</th>\n",
       "      <td>1.000000</td>\n",
       "      <td>25.0</td>\n",
       "    </tr>\n",
       "    <tr>\n",
       "      <th>5</th>\n",
       "      <td>0.909091</td>\n",
       "      <td>27.5</td>\n",
       "    </tr>\n",
       "    <tr>\n",
       "      <th>6</th>\n",
       "      <td>0.923077</td>\n",
       "      <td>30.0</td>\n",
       "    </tr>\n",
       "  </tbody>\n",
       "</table>\n",
       "</div>"
      ],
      "text/plain": [
       "   MM_regular     T\n",
       "0    0.777778  15.0\n",
       "1    0.705882  17.5\n",
       "2    1.000000  20.0\n",
       "3    1.000000  22.5\n",
       "4    1.000000  25.0\n",
       "5    0.909091  27.5\n",
       "6    0.923077  30.0"
      ]
     },
     "execution_count": 29,
     "metadata": {},
     "output_type": "execute_result"
    }
   ],
   "source": [
    "summary_creophilus_regular = (\n",
    "    creophilus_regular.groupby(\"T\", as_index=False)\n",
    "      .agg({\"MM_regular\": \"mean\", \"T\": \"mean\"})\n",
    ")\n",
    "summary_creophilus_regular"
   ]
  },
  {
   "cell_type": "code",
   "execution_count": 24,
   "id": "7a9e646e",
   "metadata": {},
   "outputs": [
    {
     "data": {
      "text/plain": [
       "MM_regular    0.937107\n",
       "dtype: float64"
      ]
     },
     "execution_count": 24,
     "metadata": {},
     "output_type": "execute_result"
    }
   ],
   "source": [
    "creophilus_regular[['MM_regular']].mean(axis=0)"
   ]
  },
  {
   "cell_type": "code",
   "execution_count": 30,
   "id": "6a301999",
   "metadata": {},
   "outputs": [
    {
     "data": {
      "text/html": [
       "<div>\n",
       "<style scoped>\n",
       "    .dataframe tbody tr th:only-of-type {\n",
       "        vertical-align: middle;\n",
       "    }\n",
       "\n",
       "    .dataframe tbody tr th {\n",
       "        vertical-align: top;\n",
       "    }\n",
       "\n",
       "    .dataframe thead th {\n",
       "        text-align: right;\n",
       "    }\n",
       "</style>\n",
       "<table border=\"1\" class=\"dataframe\">\n",
       "  <thead>\n",
       "    <tr style=\"text-align: right;\">\n",
       "      <th></th>\n",
       "      <th>MM_outliers</th>\n",
       "      <th>T</th>\n",
       "    </tr>\n",
       "  </thead>\n",
       "  <tbody>\n",
       "    <tr>\n",
       "      <th>0</th>\n",
       "      <td>0.80</td>\n",
       "      <td>15.0</td>\n",
       "    </tr>\n",
       "    <tr>\n",
       "      <th>1</th>\n",
       "      <td>0.75</td>\n",
       "      <td>17.5</td>\n",
       "    </tr>\n",
       "    <tr>\n",
       "      <th>2</th>\n",
       "      <td>1.00</td>\n",
       "      <td>27.5</td>\n",
       "    </tr>\n",
       "  </tbody>\n",
       "</table>\n",
       "</div>"
      ],
      "text/plain": [
       "   MM_outliers     T\n",
       "0         0.80  15.0\n",
       "1         0.75  17.5\n",
       "2         1.00  27.5"
      ]
     },
     "execution_count": 30,
     "metadata": {},
     "output_type": "execute_result"
    }
   ],
   "source": [
    "summary_creophilus_outliers = (\n",
    "    creophilus_outliers.groupby(\"T\", as_index=False)\n",
    "      .agg({\"MM_outliers\": \"mean\", \"T\": \"mean\"})\n",
    ")\n",
    "summary_creophilus_outliers"
   ]
  },
  {
   "cell_type": "code",
   "execution_count": 25,
   "id": "241ff2f1",
   "metadata": {},
   "outputs": [
    {
     "data": {
      "text/plain": [
       "MM_outliers    0.857143\n",
       "dtype: float64"
      ]
     },
     "execution_count": 25,
     "metadata": {},
     "output_type": "execute_result"
    }
   ],
   "source": [
    "creophilus_outliers[['MM_outliers']].mean(axis=0)"
   ]
  },
  {
   "cell_type": "code",
   "execution_count": 14,
   "id": "8e0e0f7f",
   "metadata": {},
   "outputs": [],
   "source": [
    "# Necrodes\n",
    "Necrodes_shape_k = [14.57, 13.67]\n",
    "Necrodes_scale_lambda = [394.44, 423.95]\n",
    "Necrodes_weights = [0.41, 0.59]\n",
    "Necrodes_MM_t_0 = [9.52, 10.21]\n",
    "\n",
    "dict_labs = {9.52: 'large', 10.21: 'small'}\n",
    "\n",
    "pre_Necrodes_MM_lower_k_combined = quantile(0.025, \n",
    "                               weights = Necrodes_weights, \n",
    "                               shape_k = Necrodes_shape_k,\n",
    "                               lambda_scale = Necrodes_scale_lambda,\n",
    "                               n_comp = 2, \n",
    "                               step = 0.01, \n",
    "                               debug_eps = 1e-10)\n",
    "\n",
    "MM_Necrodes_lower_k_combined = pre_Necrodes_MM_lower_k_combined[1]\n",
    "\n",
    "pre_Necrodes_MM_upper_k_combined = quantile(0.975, \n",
    "                               weights = Necrodes_weights, \n",
    "                               shape_k = Necrodes_shape_k,\n",
    "                               lambda_scale = Necrodes_scale_lambda,\n",
    "                               n_comp = 2, \n",
    "                               step = 0.01, \n",
    "                               debug_eps = 1e-10)\n",
    "\n",
    "MM_Necrodes_upper_k_combined = pre_Necrodes_MM_upper_k_combined[1]\n",
    "\n",
    "Necrodes_IT_k = 468.89\n",
    "Necrodes_se = 24.59\n",
    "Necrodes_IT_t_0 = 8.49\n",
    "Necrodes_IT_lower_k = Necrodes_IT_k - 1.96*Necrodes_se\n",
    "Necrodes_IT_upper_k = Necrodes_IT_k + 1.96*Necrodes_se\n",
    "\n",
    "pre_labs = cluster(necrodes, \n",
    "                   Necrodes_MM_t_0, \n",
    "                   Necrodes_weights, \n",
    "                   Necrodes_shape_k, \n",
    "                   Necrodes_scale_lambda, \n",
    "                   2, \n",
    "                   debug_eps = 1e-10)\n",
    "necrodes['population'] = [dict_labs[i] for i in pre_labs]\n",
    "necrodes['t_0'] = pre_labs"
   ]
  },
  {
   "cell_type": "code",
   "execution_count": 15,
   "id": "c2594b72",
   "metadata": {},
   "outputs": [],
   "source": [
    "necrodes['MM'] = ((necrodes['D'] < MM_Necrodes_upper_k_combined/(necrodes['T'] - necrodes['t_0'])) & (necrodes['D'] > MM_Necrodes_lower_k_combined/(necrodes['T'] - necrodes['t_0']))).astype(int)\n",
    "necrodes['IT'] = ((necrodes['D'] < Necrodes_IT_upper_k/(necrodes['T'] - Necrodes_IT_t_0)) & (necrodes['D'] > Necrodes_IT_lower_k/(necrodes['T'] - Necrodes_IT_t_0))).astype(int)"
   ]
  },
  {
   "cell_type": "code",
   "execution_count": 16,
   "id": "9548eaf5",
   "metadata": {},
   "outputs": [],
   "source": [
    "necrodes_large = necrodes[necrodes['population'] == 'large'].copy()\n",
    "necrodes_small = necrodes[necrodes['population'] == 'small'].copy()"
   ]
  },
  {
   "cell_type": "code",
   "execution_count": 17,
   "id": "ce948205",
   "metadata": {},
   "outputs": [],
   "source": [
    "k_upper = weibull_min.ppf(0.975, c=Necrodes_shape_k[0], scale=Necrodes_scale_lambda[0])\n",
    "k_lower = weibull_min.ppf(0.025, c=Necrodes_shape_k[0], scale=Necrodes_scale_lambda[0])\n",
    "\n",
    "necrodes_large['MM_large'] = ((necrodes_large['D'] < k_upper/(necrodes_large['T'] - necrodes_large['t_0'])) & (necrodes_large['D'] > k_lower/(necrodes_large['T'] - necrodes_large['t_0']))).astype(int)\n",
    "\n",
    "k_upper = weibull_min.ppf(0.975, c=Necrodes_shape_k[1], scale=Necrodes_scale_lambda[1])\n",
    "k_lower = weibull_min.ppf(0.025, c=Necrodes_shape_k[1], scale=Necrodes_scale_lambda[1])\n",
    "\n",
    "necrodes_small['MM_small'] = ((necrodes_small['D'] < k_upper/(necrodes_small['T'] - necrodes_small['t_0'])) & (necrodes_small['D'] > k_lower/(necrodes_small['T'] - necrodes_small['t_0']))).astype(int)"
   ]
  },
  {
   "cell_type": "code",
   "execution_count": 31,
   "id": "eefd0aa9",
   "metadata": {},
   "outputs": [
    {
     "data": {
      "text/html": [
       "<div>\n",
       "<style scoped>\n",
       "    .dataframe tbody tr th:only-of-type {\n",
       "        vertical-align: middle;\n",
       "    }\n",
       "\n",
       "    .dataframe tbody tr th {\n",
       "        vertical-align: top;\n",
       "    }\n",
       "\n",
       "    .dataframe thead th {\n",
       "        text-align: right;\n",
       "    }\n",
       "</style>\n",
       "<table border=\"1\" class=\"dataframe\">\n",
       "  <thead>\n",
       "    <tr style=\"text-align: right;\">\n",
       "      <th></th>\n",
       "      <th>MM</th>\n",
       "      <th>IT</th>\n",
       "      <th>T</th>\n",
       "    </tr>\n",
       "  </thead>\n",
       "  <tbody>\n",
       "    <tr>\n",
       "      <th>0</th>\n",
       "      <td>1.00</td>\n",
       "      <td>0.87037</td>\n",
       "      <td>14.0</td>\n",
       "    </tr>\n",
       "    <tr>\n",
       "      <th>1</th>\n",
       "      <td>1.00</td>\n",
       "      <td>0.96000</td>\n",
       "      <td>15.0</td>\n",
       "    </tr>\n",
       "    <tr>\n",
       "      <th>2</th>\n",
       "      <td>1.00</td>\n",
       "      <td>0.77000</td>\n",
       "      <td>16.0</td>\n",
       "    </tr>\n",
       "    <tr>\n",
       "      <th>3</th>\n",
       "      <td>1.00</td>\n",
       "      <td>0.26000</td>\n",
       "      <td>17.0</td>\n",
       "    </tr>\n",
       "    <tr>\n",
       "      <th>4</th>\n",
       "      <td>0.99</td>\n",
       "      <td>0.91000</td>\n",
       "      <td>18.0</td>\n",
       "    </tr>\n",
       "    <tr>\n",
       "      <th>5</th>\n",
       "      <td>1.00</td>\n",
       "      <td>0.99000</td>\n",
       "      <td>19.0</td>\n",
       "    </tr>\n",
       "    <tr>\n",
       "      <th>6</th>\n",
       "      <td>1.00</td>\n",
       "      <td>0.79000</td>\n",
       "      <td>20.0</td>\n",
       "    </tr>\n",
       "    <tr>\n",
       "      <th>7</th>\n",
       "      <td>1.00</td>\n",
       "      <td>0.02000</td>\n",
       "      <td>22.0</td>\n",
       "    </tr>\n",
       "    <tr>\n",
       "      <th>8</th>\n",
       "      <td>0.97</td>\n",
       "      <td>0.97000</td>\n",
       "      <td>26.0</td>\n",
       "    </tr>\n",
       "    <tr>\n",
       "      <th>9</th>\n",
       "      <td>0.79</td>\n",
       "      <td>1.00000</td>\n",
       "      <td>30.0</td>\n",
       "    </tr>\n",
       "  </tbody>\n",
       "</table>\n",
       "</div>"
      ],
      "text/plain": [
       "     MM       IT     T\n",
       "0  1.00  0.87037  14.0\n",
       "1  1.00  0.96000  15.0\n",
       "2  1.00  0.77000  16.0\n",
       "3  1.00  0.26000  17.0\n",
       "4  0.99  0.91000  18.0\n",
       "5  1.00  0.99000  19.0\n",
       "6  1.00  0.79000  20.0\n",
       "7  1.00  0.02000  22.0\n",
       "8  0.97  0.97000  26.0\n",
       "9  0.79  1.00000  30.0"
      ]
     },
     "execution_count": 31,
     "metadata": {},
     "output_type": "execute_result"
    }
   ],
   "source": [
    "summary_necrodes = (\n",
    "    necrodes.groupby(\"T\", as_index=False)\n",
    "      .agg({\"MM\": \"mean\", \"IT\": \"mean\", \"T\": \"mean\"})\n",
    ")\n",
    "summary_necrodes"
   ]
  },
  {
   "cell_type": "code",
   "execution_count": 19,
   "id": "fec8bb74",
   "metadata": {},
   "outputs": [
    {
     "data": {
      "text/plain": [
       "MM    0.973795\n",
       "IT    0.748428\n",
       "dtype: float64"
      ]
     },
     "execution_count": 19,
     "metadata": {},
     "output_type": "execute_result"
    }
   ],
   "source": [
    "necrodes[['MM', 'IT']].mean(axis=0)"
   ]
  },
  {
   "cell_type": "code",
   "execution_count": 32,
   "id": "2f9d6fee",
   "metadata": {},
   "outputs": [
    {
     "data": {
      "text/html": [
       "<div>\n",
       "<style scoped>\n",
       "    .dataframe tbody tr th:only-of-type {\n",
       "        vertical-align: middle;\n",
       "    }\n",
       "\n",
       "    .dataframe tbody tr th {\n",
       "        vertical-align: top;\n",
       "    }\n",
       "\n",
       "    .dataframe thead th {\n",
       "        text-align: right;\n",
       "    }\n",
       "</style>\n",
       "<table border=\"1\" class=\"dataframe\">\n",
       "  <thead>\n",
       "    <tr style=\"text-align: right;\">\n",
       "      <th></th>\n",
       "      <th>MM_large</th>\n",
       "      <th>T</th>\n",
       "    </tr>\n",
       "  </thead>\n",
       "  <tbody>\n",
       "    <tr>\n",
       "      <th>0</th>\n",
       "      <td>1.0</td>\n",
       "      <td>14.0</td>\n",
       "    </tr>\n",
       "    <tr>\n",
       "      <th>1</th>\n",
       "      <td>1.0</td>\n",
       "      <td>15.0</td>\n",
       "    </tr>\n",
       "    <tr>\n",
       "      <th>2</th>\n",
       "      <td>1.0</td>\n",
       "      <td>16.0</td>\n",
       "    </tr>\n",
       "    <tr>\n",
       "      <th>3</th>\n",
       "      <td>1.0</td>\n",
       "      <td>18.0</td>\n",
       "    </tr>\n",
       "    <tr>\n",
       "      <th>4</th>\n",
       "      <td>1.0</td>\n",
       "      <td>19.0</td>\n",
       "    </tr>\n",
       "    <tr>\n",
       "      <th>5</th>\n",
       "      <td>1.0</td>\n",
       "      <td>22.0</td>\n",
       "    </tr>\n",
       "    <tr>\n",
       "      <th>6</th>\n",
       "      <td>1.0</td>\n",
       "      <td>26.0</td>\n",
       "    </tr>\n",
       "  </tbody>\n",
       "</table>\n",
       "</div>"
      ],
      "text/plain": [
       "   MM_large     T\n",
       "0       1.0  14.0\n",
       "1       1.0  15.0\n",
       "2       1.0  16.0\n",
       "3       1.0  18.0\n",
       "4       1.0  19.0\n",
       "5       1.0  22.0\n",
       "6       1.0  26.0"
      ]
     },
     "execution_count": 32,
     "metadata": {},
     "output_type": "execute_result"
    }
   ],
   "source": [
    "summary_necrodes_large = (\n",
    "    necrodes_large.groupby(\"T\", as_index=False)\n",
    "      .agg({\"MM_large\": \"mean\", \"T\": \"mean\"})\n",
    ")\n",
    "summary_necrodes_large"
   ]
  },
  {
   "cell_type": "code",
   "execution_count": 26,
   "id": "ae1de80d",
   "metadata": {},
   "outputs": [
    {
     "data": {
      "text/plain": [
       "MM_large    1.0\n",
       "dtype: float64"
      ]
     },
     "execution_count": 26,
     "metadata": {},
     "output_type": "execute_result"
    }
   ],
   "source": [
    "necrodes_large[['MM_large']].mean(axis=0)"
   ]
  },
  {
   "cell_type": "code",
   "execution_count": 33,
   "id": "17f9b16f",
   "metadata": {},
   "outputs": [
    {
     "data": {
      "text/html": [
       "<div>\n",
       "<style scoped>\n",
       "    .dataframe tbody tr th:only-of-type {\n",
       "        vertical-align: middle;\n",
       "    }\n",
       "\n",
       "    .dataframe tbody tr th {\n",
       "        vertical-align: top;\n",
       "    }\n",
       "\n",
       "    .dataframe thead th {\n",
       "        text-align: right;\n",
       "    }\n",
       "</style>\n",
       "<table border=\"1\" class=\"dataframe\">\n",
       "  <thead>\n",
       "    <tr style=\"text-align: right;\">\n",
       "      <th></th>\n",
       "      <th>MM_small</th>\n",
       "      <th>T</th>\n",
       "    </tr>\n",
       "  </thead>\n",
       "  <tbody>\n",
       "    <tr>\n",
       "      <th>0</th>\n",
       "      <td>1.000000</td>\n",
       "      <td>14.0</td>\n",
       "    </tr>\n",
       "    <tr>\n",
       "      <th>1</th>\n",
       "      <td>1.000000</td>\n",
       "      <td>17.0</td>\n",
       "    </tr>\n",
       "    <tr>\n",
       "      <th>2</th>\n",
       "      <td>1.000000</td>\n",
       "      <td>18.0</td>\n",
       "    </tr>\n",
       "    <tr>\n",
       "      <th>3</th>\n",
       "      <td>1.000000</td>\n",
       "      <td>19.0</td>\n",
       "    </tr>\n",
       "    <tr>\n",
       "      <th>4</th>\n",
       "      <td>1.000000</td>\n",
       "      <td>20.0</td>\n",
       "    </tr>\n",
       "    <tr>\n",
       "      <th>5</th>\n",
       "      <td>0.956522</td>\n",
       "      <td>26.0</td>\n",
       "    </tr>\n",
       "    <tr>\n",
       "      <th>6</th>\n",
       "      <td>0.820000</td>\n",
       "      <td>30.0</td>\n",
       "    </tr>\n",
       "  </tbody>\n",
       "</table>\n",
       "</div>"
      ],
      "text/plain": [
       "   MM_small     T\n",
       "0  1.000000  14.0\n",
       "1  1.000000  17.0\n",
       "2  1.000000  18.0\n",
       "3  1.000000  19.0\n",
       "4  1.000000  20.0\n",
       "5  0.956522  26.0\n",
       "6  0.820000  30.0"
      ]
     },
     "execution_count": 33,
     "metadata": {},
     "output_type": "execute_result"
    }
   ],
   "source": [
    "summary_necrodes_small = (\n",
    "    necrodes_small.groupby(\"T\", as_index=False)\n",
    "      .agg({\"MM_small\": \"mean\", \"T\": \"mean\"})\n",
    ")\n",
    "summary_necrodes_small"
   ]
  },
  {
   "cell_type": "code",
   "execution_count": 23,
   "id": "0f601709",
   "metadata": {},
   "outputs": [
    {
     "data": {
      "text/plain": [
       "MM_small    0.957055\n",
       "dtype: float64"
      ]
     },
     "execution_count": 23,
     "metadata": {},
     "output_type": "execute_result"
    }
   ],
   "source": [
    "necrodes_small[['MM_small']].mean(axis=0)"
   ]
  }
 ],
 "metadata": {
  "kernelspec": {
   "display_name": "Python 3 (ipykernel)",
   "language": "python",
   "name": "python3"
  },
  "language_info": {
   "codemirror_mode": {
    "name": "ipython",
    "version": 3
   },
   "file_extension": ".py",
   "mimetype": "text/x-python",
   "name": "python",
   "nbconvert_exporter": "python",
   "pygments_lexer": "ipython3",
   "version": "3.10.0"
  }
 },
 "nbformat": 4,
 "nbformat_minor": 5
}
